{
  "nbformat": 4,
  "nbformat_minor": 0,
  "metadata": {
    "colab": {
      "name": "final_taxi_gpu_today.ipynb",
      "provenance": [],
      "collapsed_sections": [],
      "authorship_tag": "ABX9TyN8J/Aj7OBhxdfa4QHlBYUz",
      "include_colab_link": true
    },
    "kernelspec": {
      "name": "python3",
      "display_name": "Python 3"
    },
    "accelerator": "GPU"
  },
  "cells": [
    {
      "cell_type": "markdown",
      "metadata": {
        "id": "view-in-github",
        "colab_type": "text"
      },
      "source": [
        "<a href=\"https://colab.research.google.com/github/maldanna/taxi/blob/master/final_taxi_gpu_today.ipynb\" target=\"_parent\"><img src=\"https://colab.research.google.com/assets/colab-badge.svg\" alt=\"Open In Colab\"/></a>"
      ]
    },
    {
      "cell_type": "code",
      "metadata": {
        "id": "9yEAdsV0AHxN",
        "colab_type": "code",
        "colab": {}
      },
      "source": [
        "\n",
        "import pandas as pd\n",
        "import numpy as np\n",
        "import seaborn as sns\n",
        "import pickle\n",
        "import warnings\n",
        "warnings.filterwarnings(\"ignore\")\n"
      ],
      "execution_count": 0,
      "outputs": []
    },
    {
      "cell_type": "code",
      "metadata": {
        "id": "uXTjpZgFAatv",
        "colab_type": "code",
        "outputId": "305f16fc-a3f1-4173-8d52-65ece74cd669",
        "colab": {
          "base_uri": "https://localhost:8080/",
          "height": 252
        }
      },
      "source": [
        "#reading data gitub where my 15 time internval data ie available\n",
        "data=pd.read_csv(\"https://raw.githubusercontent.com/maldanna/adv/master/final_jan.csv\")\n",
        "data.describe"
      ],
      "execution_count": 0,
      "outputs": [
        {
          "output_type": "execute_result",
          "data": {
            "text/plain": [
              "<bound method NDFrame.describe of         Vendor_ID   time  Location_ID  ...  special_day  sunday  total_cabs\n",
              "0               1   0.00            4  ...            1       0           8\n",
              "1               2   0.00            4  ...            1       0           8\n",
              "2               1   0.00            7  ...            1       0           1\n",
              "3               2   0.00            7  ...            1       0           2\n",
              "4               1   0.00           13  ...            1       0           8\n",
              "...           ...    ...          ...  ...          ...     ...         ...\n",
              "444427          1  23.75          264  ...            1       0          21\n",
              "444428          2  23.75          264  ...            1       0          19\n",
              "444429          1  23.75          265  ...            1       0           2\n",
              "444430          2  23.75          265  ...            1       0           1\n",
              "444431          2   0.00           79  ...            1       0           1\n",
              "\n",
              "[444432 rows x 15 columns]>"
            ]
          },
          "metadata": {
            "tags": []
          },
          "execution_count": 2
        }
      ]
    },
    {
      "cell_type": "code",
      "metadata": {
        "id": "8CQK-UErAdYg",
        "colab_type": "code",
        "outputId": "220a560b-dee5-4ebb-8b45-ce7152271abe",
        "colab": {
          "base_uri": "https://localhost:8080/",
          "height": 215
        }
      },
      "source": [
        "#we removed month columns because we are traing for only one month at time\n",
        "data=data.drop(['month'], axis=1)\n",
        "data.head()"
      ],
      "execution_count": 0,
      "outputs": [
        {
          "output_type": "execute_result",
          "data": {
            "text/html": [
              "<div>\n",
              "<style scoped>\n",
              "    .dataframe tbody tr th:only-of-type {\n",
              "        vertical-align: middle;\n",
              "    }\n",
              "\n",
              "    .dataframe tbody tr th {\n",
              "        vertical-align: top;\n",
              "    }\n",
              "\n",
              "    .dataframe thead th {\n",
              "        text-align: right;\n",
              "    }\n",
              "</style>\n",
              "<table border=\"1\" class=\"dataframe\">\n",
              "  <thead>\n",
              "    <tr style=\"text-align: right;\">\n",
              "      <th></th>\n",
              "      <th>Vendor_ID</th>\n",
              "      <th>time</th>\n",
              "      <th>Location_ID</th>\n",
              "      <th>clear</th>\n",
              "      <th>cloudy</th>\n",
              "      <th>fog</th>\n",
              "      <th>hazy</th>\n",
              "      <th>mostlycloudy</th>\n",
              "      <th>partlycloudy</th>\n",
              "      <th>rain</th>\n",
              "      <th>snow</th>\n",
              "      <th>special_day</th>\n",
              "      <th>sunday</th>\n",
              "      <th>total_cabs</th>\n",
              "    </tr>\n",
              "  </thead>\n",
              "  <tbody>\n",
              "    <tr>\n",
              "      <th>0</th>\n",
              "      <td>1</td>\n",
              "      <td>0.0</td>\n",
              "      <td>4</td>\n",
              "      <td>0</td>\n",
              "      <td>1</td>\n",
              "      <td>0</td>\n",
              "      <td>0</td>\n",
              "      <td>0</td>\n",
              "      <td>0</td>\n",
              "      <td>0</td>\n",
              "      <td>0</td>\n",
              "      <td>1</td>\n",
              "      <td>0</td>\n",
              "      <td>8</td>\n",
              "    </tr>\n",
              "    <tr>\n",
              "      <th>1</th>\n",
              "      <td>2</td>\n",
              "      <td>0.0</td>\n",
              "      <td>4</td>\n",
              "      <td>0</td>\n",
              "      <td>1</td>\n",
              "      <td>0</td>\n",
              "      <td>0</td>\n",
              "      <td>0</td>\n",
              "      <td>0</td>\n",
              "      <td>0</td>\n",
              "      <td>0</td>\n",
              "      <td>1</td>\n",
              "      <td>0</td>\n",
              "      <td>8</td>\n",
              "    </tr>\n",
              "    <tr>\n",
              "      <th>2</th>\n",
              "      <td>1</td>\n",
              "      <td>0.0</td>\n",
              "      <td>7</td>\n",
              "      <td>0</td>\n",
              "      <td>1</td>\n",
              "      <td>0</td>\n",
              "      <td>0</td>\n",
              "      <td>0</td>\n",
              "      <td>0</td>\n",
              "      <td>0</td>\n",
              "      <td>0</td>\n",
              "      <td>1</td>\n",
              "      <td>0</td>\n",
              "      <td>1</td>\n",
              "    </tr>\n",
              "    <tr>\n",
              "      <th>3</th>\n",
              "      <td>2</td>\n",
              "      <td>0.0</td>\n",
              "      <td>7</td>\n",
              "      <td>0</td>\n",
              "      <td>1</td>\n",
              "      <td>0</td>\n",
              "      <td>0</td>\n",
              "      <td>0</td>\n",
              "      <td>0</td>\n",
              "      <td>0</td>\n",
              "      <td>0</td>\n",
              "      <td>1</td>\n",
              "      <td>0</td>\n",
              "      <td>2</td>\n",
              "    </tr>\n",
              "    <tr>\n",
              "      <th>4</th>\n",
              "      <td>1</td>\n",
              "      <td>0.0</td>\n",
              "      <td>13</td>\n",
              "      <td>0</td>\n",
              "      <td>1</td>\n",
              "      <td>0</td>\n",
              "      <td>0</td>\n",
              "      <td>0</td>\n",
              "      <td>0</td>\n",
              "      <td>0</td>\n",
              "      <td>0</td>\n",
              "      <td>1</td>\n",
              "      <td>0</td>\n",
              "      <td>8</td>\n",
              "    </tr>\n",
              "  </tbody>\n",
              "</table>\n",
              "</div>"
            ],
            "text/plain": [
              "   Vendor_ID  time  Location_ID  clear  ...  snow  special_day  sunday  total_cabs\n",
              "0          1   0.0            4      0  ...     0            1       0           8\n",
              "1          2   0.0            4      0  ...     0            1       0           8\n",
              "2          1   0.0            7      0  ...     0            1       0           1\n",
              "3          2   0.0            7      0  ...     0            1       0           2\n",
              "4          1   0.0           13      0  ...     0            1       0           8\n",
              "\n",
              "[5 rows x 14 columns]"
            ]
          },
          "metadata": {
            "tags": []
          },
          "execution_count": 3
        }
      ]
    },
    {
      "cell_type": "code",
      "metadata": {
        "id": "KUx6Q2sbAkTu",
        "colab_type": "code",
        "outputId": "6b834c5a-8bb7-47a3-be95-659a179e8f37",
        "colab": {
          "base_uri": "https://localhost:8080/",
          "height": 123
        }
      },
      "source": [
        "\n",
        "icon=[]\n",
        "for i in range(444432):\n",
        "    if(int(data.iloc[i,2])==1):\n",
        "        icon.append(1)\n",
        "    elif(int(data.iloc[i,3])==1):\n",
        "        icon.append(2)\n",
        "    elif(int(data.iloc[i,4])==1):\n",
        "        icon.append(3)\n",
        "    elif(int(data.iloc[i,5])==1):\n",
        "        icon.append(4)\n",
        "    elif(int(data.iloc[i,6])==1):\n",
        "        icon.append(5)\n",
        "    elif(int(data.iloc[i,7])==1):\n",
        "        icon.append(6)\n",
        "    elif(int(data.iloc[i,8])==1):\n",
        "        icon.append(7)\n",
        "    else:\n",
        "        icon.append(8)\n",
        "    \n",
        "print(len(icon))\n",
        "data_icon=pd.DataFrame(icon)\n",
        "data_icon.head(2)"
      ],
      "execution_count": 0,
      "outputs": [
        {
          "output_type": "stream",
          "text": [
            "444432\n"
          ],
          "name": "stdout"
        },
        {
          "output_type": "execute_result",
          "data": {
            "text/html": [
              "<div>\n",
              "<style scoped>\n",
              "    .dataframe tbody tr th:only-of-type {\n",
              "        vertical-align: middle;\n",
              "    }\n",
              "\n",
              "    .dataframe tbody tr th {\n",
              "        vertical-align: top;\n",
              "    }\n",
              "\n",
              "    .dataframe thead th {\n",
              "        text-align: right;\n",
              "    }\n",
              "</style>\n",
              "<table border=\"1\" class=\"dataframe\">\n",
              "  <thead>\n",
              "    <tr style=\"text-align: right;\">\n",
              "      <th></th>\n",
              "      <th>0</th>\n",
              "    </tr>\n",
              "  </thead>\n",
              "  <tbody>\n",
              "    <tr>\n",
              "      <th>0</th>\n",
              "      <td>3</td>\n",
              "    </tr>\n",
              "    <tr>\n",
              "      <th>1</th>\n",
              "      <td>3</td>\n",
              "    </tr>\n",
              "  </tbody>\n",
              "</table>\n",
              "</div>"
            ],
            "text/plain": [
              "   0\n",
              "0  3\n",
              "1  3"
            ]
          },
          "metadata": {
            "tags": []
          },
          "execution_count": 4
        }
      ]
    },
    {
      "cell_type": "code",
      "metadata": {
        "id": "_6QjuIFjAnAG",
        "colab_type": "code",
        "outputId": "214eaa45-b3e9-4696-e904-c124009bf766",
        "colab": {
          "base_uri": "https://localhost:8080/",
          "height": 195
        }
      },
      "source": [
        "\n",
        "data1=data.drop(['clear'],axis=1)\n",
        "data1=data1.drop(['cloudy'],axis=1)\n",
        "data1=data1.drop(['fog'],axis=1)\n",
        "data1=data1.drop(['mostlycloudy'],axis=1)\n",
        "data1=data1.drop(['partlycloudy'],axis=1)\n",
        "data1=data1.drop(['rain'],axis=1)\n",
        "data1=data1.drop(['snow'],axis=1)\n",
        "data1=data1.drop(['hazy'],axis=1)\n",
        "data1.head()\n",
        "\n",
        "data1=data_icon.join(data1)\n",
        "# data1=data1.rename(columns={0:'weather_icon'}, \n",
        "#                  inplace=True)\n",
        "data1.head(5)\n"
      ],
      "execution_count": 0,
      "outputs": [
        {
          "output_type": "execute_result",
          "data": {
            "text/html": [
              "<div>\n",
              "<style scoped>\n",
              "    .dataframe tbody tr th:only-of-type {\n",
              "        vertical-align: middle;\n",
              "    }\n",
              "\n",
              "    .dataframe tbody tr th {\n",
              "        vertical-align: top;\n",
              "    }\n",
              "\n",
              "    .dataframe thead th {\n",
              "        text-align: right;\n",
              "    }\n",
              "</style>\n",
              "<table border=\"1\" class=\"dataframe\">\n",
              "  <thead>\n",
              "    <tr style=\"text-align: right;\">\n",
              "      <th></th>\n",
              "      <th>0</th>\n",
              "      <th>Vendor_ID</th>\n",
              "      <th>time</th>\n",
              "      <th>Location_ID</th>\n",
              "      <th>special_day</th>\n",
              "      <th>sunday</th>\n",
              "      <th>total_cabs</th>\n",
              "    </tr>\n",
              "  </thead>\n",
              "  <tbody>\n",
              "    <tr>\n",
              "      <th>0</th>\n",
              "      <td>3</td>\n",
              "      <td>1</td>\n",
              "      <td>0.0</td>\n",
              "      <td>4</td>\n",
              "      <td>1</td>\n",
              "      <td>0</td>\n",
              "      <td>8</td>\n",
              "    </tr>\n",
              "    <tr>\n",
              "      <th>1</th>\n",
              "      <td>3</td>\n",
              "      <td>2</td>\n",
              "      <td>0.0</td>\n",
              "      <td>4</td>\n",
              "      <td>1</td>\n",
              "      <td>0</td>\n",
              "      <td>8</td>\n",
              "    </tr>\n",
              "    <tr>\n",
              "      <th>2</th>\n",
              "      <td>3</td>\n",
              "      <td>1</td>\n",
              "      <td>0.0</td>\n",
              "      <td>7</td>\n",
              "      <td>1</td>\n",
              "      <td>0</td>\n",
              "      <td>1</td>\n",
              "    </tr>\n",
              "    <tr>\n",
              "      <th>3</th>\n",
              "      <td>3</td>\n",
              "      <td>2</td>\n",
              "      <td>0.0</td>\n",
              "      <td>7</td>\n",
              "      <td>1</td>\n",
              "      <td>0</td>\n",
              "      <td>2</td>\n",
              "    </tr>\n",
              "    <tr>\n",
              "      <th>4</th>\n",
              "      <td>3</td>\n",
              "      <td>1</td>\n",
              "      <td>0.0</td>\n",
              "      <td>13</td>\n",
              "      <td>1</td>\n",
              "      <td>0</td>\n",
              "      <td>8</td>\n",
              "    </tr>\n",
              "  </tbody>\n",
              "</table>\n",
              "</div>"
            ],
            "text/plain": [
              "   0  Vendor_ID  time  Location_ID  special_day  sunday  total_cabs\n",
              "0  3          1   0.0            4            1       0           8\n",
              "1  3          2   0.0            4            1       0           8\n",
              "2  3          1   0.0            7            1       0           1\n",
              "3  3          2   0.0            7            1       0           2\n",
              "4  3          1   0.0           13            1       0           8"
            ]
          },
          "metadata": {
            "tags": []
          },
          "execution_count": 5
        }
      ]
    },
    {
      "cell_type": "code",
      "metadata": {
        "id": "E7tmGTwmvR-X",
        "colab_type": "code",
        "colab": {}
      },
      "source": [
        "\n",
        "data1.rename(columns={0:'weather_icon'}, \n",
        "                 inplace=True)\n",
        "\n"
      ],
      "execution_count": 0,
      "outputs": []
    },
    {
      "cell_type": "code",
      "metadata": {
        "id": "_RO2gJUwwO7g",
        "colab_type": "code",
        "outputId": "c7bcc7a7-cd63-481f-d495-12aaec9f67b0",
        "colab": {
          "base_uri": "https://localhost:8080/",
          "height": 106
        }
      },
      "source": [
        "data1.head(2)"
      ],
      "execution_count": 0,
      "outputs": [
        {
          "output_type": "execute_result",
          "data": {
            "text/html": [
              "<div>\n",
              "<style scoped>\n",
              "    .dataframe tbody tr th:only-of-type {\n",
              "        vertical-align: middle;\n",
              "    }\n",
              "\n",
              "    .dataframe tbody tr th {\n",
              "        vertical-align: top;\n",
              "    }\n",
              "\n",
              "    .dataframe thead th {\n",
              "        text-align: right;\n",
              "    }\n",
              "</style>\n",
              "<table border=\"1\" class=\"dataframe\">\n",
              "  <thead>\n",
              "    <tr style=\"text-align: right;\">\n",
              "      <th></th>\n",
              "      <th>weather_icon</th>\n",
              "      <th>Vendor_ID</th>\n",
              "      <th>time</th>\n",
              "      <th>Location_ID</th>\n",
              "      <th>special_day</th>\n",
              "      <th>sunday</th>\n",
              "      <th>total_cabs</th>\n",
              "    </tr>\n",
              "  </thead>\n",
              "  <tbody>\n",
              "    <tr>\n",
              "      <th>0</th>\n",
              "      <td>3</td>\n",
              "      <td>1</td>\n",
              "      <td>0.0</td>\n",
              "      <td>4</td>\n",
              "      <td>1</td>\n",
              "      <td>0</td>\n",
              "      <td>8</td>\n",
              "    </tr>\n",
              "    <tr>\n",
              "      <th>1</th>\n",
              "      <td>3</td>\n",
              "      <td>2</td>\n",
              "      <td>0.0</td>\n",
              "      <td>4</td>\n",
              "      <td>1</td>\n",
              "      <td>0</td>\n",
              "      <td>8</td>\n",
              "    </tr>\n",
              "  </tbody>\n",
              "</table>\n",
              "</div>"
            ],
            "text/plain": [
              "   weather_icon  Vendor_ID  time  Location_ID  special_day  sunday  total_cabs\n",
              "0             3          1   0.0            4            1       0           8\n",
              "1             3          2   0.0            4            1       0           8"
            ]
          },
          "metadata": {
            "tags": []
          },
          "execution_count": 7
        }
      ]
    },
    {
      "cell_type": "code",
      "metadata": {
        "id": "wA4_0xMkApvT",
        "colab_type": "code",
        "colab": {}
      },
      "source": [
        "# we tried twith get_dummies values to location_id then we figure out that is giving less accuracy\n",
        "# data_dummy=pd.get_dummies(data6.iloc[:,3])\n",
        "# data_dum=pd.DataFrame(data_dummy)\n",
        "# data_dum.head(1)\n",
        "\n",
        "# #data6=data6.drop(['Location_ID'],axis=1)\n",
        "# # data6=data_dum.join(data6)\n",
        "# data6.head(1)"
      ],
      "execution_count": 0,
      "outputs": []
    },
    {
      "cell_type": "code",
      "metadata": {
        "id": "8GatVxe3Axrt",
        "colab_type": "code",
        "colab": {}
      },
      "source": [
        "#mainly these scakers to visualise  the data on charts\n",
        "# from sklearn.preprocessing import StandardScaler\n",
        "# min_max_scaler=StandardScaler()\n",
        "\n",
        "# data6=pd.DataFrame(min_max_scaler.fit_transform(data6))\n",
        "# data6.head()\n",
        "# data6.rename(columns={0:'weather_icon',1:'Vendor_ID',2:'time',3:'special_day',\n",
        "#                       4:'sunday',5:'total_cabs'}, \n",
        "#                  inplace=True)\n",
        "# data6.head()"
      ],
      "execution_count": 0,
      "outputs": []
    },
    {
      "cell_type": "code",
      "metadata": {
        "id": "6m8vy-05BFF6",
        "colab_type": "code",
        "outputId": "8e61362a-62e2-4ad6-9967-00065415ec1f",
        "colab": {
          "base_uri": "https://localhost:8080/",
          "height": 454
        }
      },
      "source": [
        "#to  split data into traing and testing data\n",
        "from sklearn.model_selection import train_test_split\n",
        "fea=data1.iloc[:,:-1]\n",
        "target=data1.iloc[:,-1]\n",
        "x_train,x_test,y_train,y_test=train_test_split(fea,target,test_size=0.2,random_state=0)\n",
        "print(x_train)\n",
        "print(y_train)"
      ],
      "execution_count": 0,
      "outputs": [
        {
          "output_type": "stream",
          "text": [
            "        weather_icon  Vendor_ID   time  Location_ID  special_day  sunday\n",
            "214195             3          2   9.25          264            1       0\n",
            "308664             2          1  17.75          246            1       1\n",
            "435702             6          2  10.00          100            1       0\n",
            "46466              3          1   3.25          164            1       0\n",
            "31289              2          1   2.00          116            1       0\n",
            "...              ...        ...    ...          ...          ...     ...\n",
            "152315             3          1   8.75          236            1       0\n",
            "439107             2          2  15.50          142            1       0\n",
            "117952             7          1   0.25          164            1       0\n",
            "435829             6          1  10.25           50            1       0\n",
            "305711             7          1  13.25          226            1       1\n",
            "\n",
            "[355545 rows x 6 columns]\n",
            "214195    13\n",
            "308664    27\n",
            "435702    48\n",
            "46466      6\n",
            "31289      1\n",
            "          ..\n",
            "152315    99\n",
            "439107    63\n",
            "117952    14\n",
            "435829    12\n",
            "305711     3\n",
            "Name: total_cabs, Length: 355545, dtype: int64\n"
          ],
          "name": "stdout"
        }
      ]
    },
    {
      "cell_type": "code",
      "metadata": {
        "id": "1yK2Fjj-8cn3",
        "colab_type": "code",
        "colab": {}
      },
      "source": [
        "list_model=[]\n",
        "list_score=[]\n",
        "list_error=[]\n"
      ],
      "execution_count": 0,
      "outputs": []
    },
    {
      "cell_type": "code",
      "metadata": {
        "id": "fzs0-VgCBH1f",
        "colab_type": "code",
        "outputId": "d8b33a05-d4aa-48b9-fae8-65d3854718c1",
        "colab": {
          "base_uri": "https://localhost:8080/",
          "height": 34
        }
      },
      "source": [
        "\n",
        "from sklearn.linear_model import LinearRegression\n",
        "from sklearn.model_selection import cross_val_score\n",
        "from sklearn.metrics import  mean_absolute_error\n",
        "l_model=LinearRegression()\n",
        "scores = cross_val_score(l_model, x_train, y_train)\n",
        "l_model.fit(x_train, y_train)\n",
        "linear_ypre=l_model.predict(x_test)\n",
        "error= mean_absolute_error(y_test, linear_ypre)\n",
        "list_model.append(\"LinearRegression\")\n",
        "list_score.append(scores.mean())\n",
        "list_error.append(error)\n",
        "print(scores.mean()*100)"
      ],
      "execution_count": 0,
      "outputs": [
        {
          "output_type": "stream",
          "text": [
            "8.633922347007694\n"
          ],
          "name": "stdout"
        }
      ]
    },
    {
      "cell_type": "code",
      "metadata": {
        "id": "R8QRo7klBNzS",
        "colab_type": "code",
        "outputId": "b3f03215-fbc9-4554-c983-0df88c55bfc4",
        "colab": {
          "base_uri": "https://localhost:8080/",
          "height": 34
        }
      },
      "source": [
        "from sklearn import svm\n",
        "s_model=svm.SVR()\n",
        "s_model.fit(x_train, y_train)\n",
        "scores = cross_val_score(s_model, x_train, y_train)\n",
        "svr_ypre=s_model.predict(x_test)\n",
        "error= mean_absolute_error(y_test, svr_ypre)\n",
        "list_model.append(\"support Vector Regression\")\n",
        "list_score.append(scores.mean()*100)\n",
        "list_error.append(error)\n",
        "print(error)"
      ],
      "execution_count": 0,
      "outputs": [
        {
          "output_type": "stream",
          "text": [
            "17.283461284627155\n"
          ],
          "name": "stdout"
        }
      ]
    },
    {
      "cell_type": "code",
      "metadata": {
        "id": "rMhpg05qBbsv",
        "colab_type": "code",
        "outputId": "f95ac880-f384-48cf-f9a9-861bad796508",
        "colab": {
          "base_uri": "https://localhost:8080/",
          "height": 34
        }
      },
      "source": [
        "import pickle\n",
        "from sklearn.ensemble import RandomForestRegressor\n",
        "# we selected this max_depth value after grid search observation\n",
        "r_model = RandomForestRegressor(max_depth=16, random_state=0)\n",
        "scores = cross_val_score(r_model, x_train, y_train)\n",
        "r_model.fit(x_train, y_train)\n",
        "r_ypre=r_model.predict(x_test)\n",
        "error= mean_absolute_error(y_test,r_ypre)\n",
        "r_ypre=s_model.predict(x_test)\n",
        "error= mean_absolute_error(y_test,r_ypre)\n",
        "list_model.append(\"RandomForestRegressor\")\n",
        "list_score.append(scores.mean()*100)\n",
        "list_error.append(error)\n",
        "print(error)\n"
      ],
      "execution_count": 0,
      "outputs": [
        {
          "output_type": "stream",
          "text": [
            "6.212669270293197\n"
          ],
          "name": "stdout"
        }
      ]
    },
    {
      "cell_type": "code",
      "metadata": {
        "id": "vZwMV47qBQiv",
        "colab_type": "code",
        "outputId": "96cd7415-f249-47f3-8da5-1f9153584128",
        "colab": {
          "base_uri": "https://localhost:8080/",
          "height": 34
        }
      },
      "source": [
        "\n",
        "import xgboost as xgb\n",
        "from sklearn.model_selection import cross_val_score\n",
        "# we selected these hyper parameters after gridsearch observations\n",
        "x_model = xgb.XGBRegressor(\n",
        "learning_rate =0.2,\n",
        "n_estimators=1000,\n",
        "max_depth=13,\n",
        "min_child_weight=3,\n",
        "gamma=0,\n",
        "subsample=0.8,\n",
        "reg_alpha=60, reg_lambda=300,\n",
        "colsample_bytree=0.9,nthread=4)\n",
        "x_model.fit(x_train, y_train)\n",
        "with open('x_model_jan_pickle','wb') as file:\n",
        "    pickle.dump(x_model,file)\n",
        "x_ypre=x_model.predict(x_test)\n",
        "scores = cross_val_score(r_model, x_train, y_train)\n",
        "error= mean_absolute_error(y_test, x_ypre)\n",
        "list_model.append(\"xgboost\")\n",
        "list_score.append(scores.mean()*100)\n",
        "list_error.append(error)\n",
        "print(error)\n"
      ],
      "execution_count": 0,
      "outputs": [
        {
          "output_type": "stream",
          "text": [
            "3.4193293874512\n"
          ],
          "name": "stdout"
        }
      ]
    },
    {
      "cell_type": "code",
      "metadata": {
        "id": "VYfrOSTc61PU",
        "colab_type": "code",
        "outputId": "0aca5f63-99fa-4fd8-9912-5a15c24be23c",
        "colab": {
          "base_uri": "https://localhost:8080/",
          "height": 67
        }
      },
      "source": [
        "\n",
        "cmp=pd.DataFrame([list_error,list_score])\n",
        "cmp=cmp.rename(columns={0:\"LinearRegression\",1:\"SVR\",2:\"RandomForestRegressor\",3:\"xgboost\" })\n",
        "cmp=pd.DataFrame([\"error\",\"accuracy\"]).join(cmp)\n",
        "print(cmp)\n"
      ],
      "execution_count": 0,
      "outputs": [
        {
          "output_type": "stream",
          "text": [
            "          0  LinearRegression        SVR  RandomForestRegressor    xgboost\n",
            "0     error        574.329373  17.283461               6.212669   3.419329\n",
            "1  accuracy          8.633922  72.623215              81.237294  86.317349\n"
          ],
          "name": "stdout"
        }
      ]
    },
    {
      "cell_type": "code",
      "metadata": {
        "id": "y3L6xPa6QIpi",
        "colab_type": "code",
        "colab": {}
      },
      "source": [
        "#based on above observations  we knew that xgboost model is best model for this dataset\n",
        "#now are saving x_model(xgboost model for future predictions on unseen data)\n",
        "#pickel- python library to save trainded models\n",
        "\n",
        "\n",
        "#to save model\n",
        "with open('x_model_jan_pickle','wb') as file:\n",
        "    pickle.dump(x_model,file)\n",
        "\n",
        "#to open saved model\n",
        "with open('x_model_jan_pickle','rb') as k:\n",
        "    clf=pickle.load(k)\n",
        "#prediction\n",
        "#a=useri_nput[\tweather_icon\tVendor_ID\ttime\tLocation_ID\tspecial_day\tsunday\t]\n",
        "#convert that list into numpy array (np.array[list1])\n",
        "#reshape it a.reshape(1,-1) . due to we have single sample here \n",
        "#clf.predict(a)\n",
        "\n"
      ],
      "execution_count": 0,
      "outputs": []
    },
    {
      "cell_type": "code",
      "metadata": {
        "id": "8C28XwkABlAu",
        "colab_type": "code",
        "colab": {}
      },
      "source": [
        "#data liks:\n",
        "https://github.com/maldanna/taxi\n",
        "https://raw.githubusercontent.com/maldanna/taxi/master/final_april.csv\n",
        "https://raw.githubusercontent.com/maldanna/taxi/master/final_aug.csv\n",
        "\n",
        "\n"
      ],
      "execution_count": 0,
      "outputs": []
    },
    {
      "cell_type": "code",
      "metadata": {
        "id": "H16CdspDBUej",
        "colab_type": "code",
        "colab": {}
      },
      "source": [
        ""
      ],
      "execution_count": 0,
      "outputs": []
    }
  ]
}